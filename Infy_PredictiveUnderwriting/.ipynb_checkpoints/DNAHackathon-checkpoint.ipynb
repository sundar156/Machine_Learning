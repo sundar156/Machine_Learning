{
 "cells": [
  {
   "cell_type": "code",
   "execution_count": null,
   "metadata": {},
   "outputs": [],
   "source": [
    "your_local_path=\"D:/GitHub/Machine_Learning/Infy_PredictiveUnderwriting/\"\n",
    "import pandas as pd\n",
    "import numpy as np\n",
    "from sklearn.model_selection import train_test_split\n",
    "from sklearn.linear_model import LinearRegression\n",
    "from sklearn import metrics"
   ]
  },
  {
   "cell_type": "code",
   "execution_count": 182,
   "metadata": {
    "scrolled": true
   },
   "outputs": [
    {
     "data": {
      "text/html": [
       "<div>\n",
       "<style scoped>\n",
       "    .dataframe tbody tr th:only-of-type {\n",
       "        vertical-align: middle;\n",
       "    }\n",
       "\n",
       "    .dataframe tbody tr th {\n",
       "        vertical-align: top;\n",
       "    }\n",
       "\n",
       "    .dataframe thead th {\n",
       "        text-align: right;\n",
       "    }\n",
       "</style>\n",
       "<table border=\"1\" class=\"dataframe\">\n",
       "  <thead>\n",
       "    <tr style=\"text-align: right;\">\n",
       "      <th></th>\n",
       "      <th>Id</th>\n",
       "      <th>Product_Info_1</th>\n",
       "      <th>Product_Info_3</th>\n",
       "      <th>Product_Info_4</th>\n",
       "      <th>Product_Info_5</th>\n",
       "      <th>Product_Info_6</th>\n",
       "      <th>Product_Info_7</th>\n",
       "      <th>Ins_Age</th>\n",
       "      <th>Ht</th>\n",
       "      <th>Wt</th>\n",
       "      <th>...</th>\n",
       "      <th>Medical_Keyword_40</th>\n",
       "      <th>Medical_Keyword_41</th>\n",
       "      <th>Medical_Keyword_42</th>\n",
       "      <th>Medical_Keyword_43</th>\n",
       "      <th>Medical_Keyword_44</th>\n",
       "      <th>Medical_Keyword_45</th>\n",
       "      <th>Medical_Keyword_46</th>\n",
       "      <th>Medical_Keyword_47</th>\n",
       "      <th>Medical_Keyword_48</th>\n",
       "      <th>Response</th>\n",
       "    </tr>\n",
       "  </thead>\n",
       "  <tbody>\n",
       "    <tr>\n",
       "      <th>count</th>\n",
       "      <td>59381.000000</td>\n",
       "      <td>59381.000000</td>\n",
       "      <td>59381.000000</td>\n",
       "      <td>59381.000000</td>\n",
       "      <td>59381.000000</td>\n",
       "      <td>59381.000000</td>\n",
       "      <td>59381.000000</td>\n",
       "      <td>59381.000000</td>\n",
       "      <td>59381.000000</td>\n",
       "      <td>59381.000000</td>\n",
       "      <td>...</td>\n",
       "      <td>59381.000000</td>\n",
       "      <td>59381.000000</td>\n",
       "      <td>59381.000000</td>\n",
       "      <td>59381.000000</td>\n",
       "      <td>59381.000000</td>\n",
       "      <td>59381.000000</td>\n",
       "      <td>59381.000000</td>\n",
       "      <td>59381.000000</td>\n",
       "      <td>59381.000000</td>\n",
       "      <td>59381.000000</td>\n",
       "    </tr>\n",
       "    <tr>\n",
       "      <th>mean</th>\n",
       "      <td>39507.211515</td>\n",
       "      <td>1.026355</td>\n",
       "      <td>24.415655</td>\n",
       "      <td>0.328952</td>\n",
       "      <td>2.006955</td>\n",
       "      <td>2.673599</td>\n",
       "      <td>1.043583</td>\n",
       "      <td>0.405567</td>\n",
       "      <td>0.707283</td>\n",
       "      <td>0.292587</td>\n",
       "      <td>...</td>\n",
       "      <td>0.056954</td>\n",
       "      <td>0.010054</td>\n",
       "      <td>0.045536</td>\n",
       "      <td>0.010710</td>\n",
       "      <td>0.007528</td>\n",
       "      <td>0.013691</td>\n",
       "      <td>0.008488</td>\n",
       "      <td>0.019905</td>\n",
       "      <td>0.054496</td>\n",
       "      <td>5.636837</td>\n",
       "    </tr>\n",
       "    <tr>\n",
       "      <th>std</th>\n",
       "      <td>22815.883089</td>\n",
       "      <td>0.160191</td>\n",
       "      <td>5.072885</td>\n",
       "      <td>0.282562</td>\n",
       "      <td>0.083107</td>\n",
       "      <td>0.739103</td>\n",
       "      <td>0.291949</td>\n",
       "      <td>0.197190</td>\n",
       "      <td>0.074239</td>\n",
       "      <td>0.089037</td>\n",
       "      <td>...</td>\n",
       "      <td>0.231757</td>\n",
       "      <td>0.099764</td>\n",
       "      <td>0.208479</td>\n",
       "      <td>0.102937</td>\n",
       "      <td>0.086436</td>\n",
       "      <td>0.116207</td>\n",
       "      <td>0.091737</td>\n",
       "      <td>0.139676</td>\n",
       "      <td>0.226995</td>\n",
       "      <td>2.456833</td>\n",
       "    </tr>\n",
       "    <tr>\n",
       "      <th>min</th>\n",
       "      <td>2.000000</td>\n",
       "      <td>1.000000</td>\n",
       "      <td>1.000000</td>\n",
       "      <td>0.000000</td>\n",
       "      <td>2.000000</td>\n",
       "      <td>1.000000</td>\n",
       "      <td>1.000000</td>\n",
       "      <td>0.000000</td>\n",
       "      <td>0.000000</td>\n",
       "      <td>0.000000</td>\n",
       "      <td>...</td>\n",
       "      <td>0.000000</td>\n",
       "      <td>0.000000</td>\n",
       "      <td>0.000000</td>\n",
       "      <td>0.000000</td>\n",
       "      <td>0.000000</td>\n",
       "      <td>0.000000</td>\n",
       "      <td>0.000000</td>\n",
       "      <td>0.000000</td>\n",
       "      <td>0.000000</td>\n",
       "      <td>1.000000</td>\n",
       "    </tr>\n",
       "    <tr>\n",
       "      <th>25%</th>\n",
       "      <td>19780.000000</td>\n",
       "      <td>1.000000</td>\n",
       "      <td>26.000000</td>\n",
       "      <td>0.076923</td>\n",
       "      <td>2.000000</td>\n",
       "      <td>3.000000</td>\n",
       "      <td>1.000000</td>\n",
       "      <td>0.238806</td>\n",
       "      <td>0.654545</td>\n",
       "      <td>0.225941</td>\n",
       "      <td>...</td>\n",
       "      <td>0.000000</td>\n",
       "      <td>0.000000</td>\n",
       "      <td>0.000000</td>\n",
       "      <td>0.000000</td>\n",
       "      <td>0.000000</td>\n",
       "      <td>0.000000</td>\n",
       "      <td>0.000000</td>\n",
       "      <td>0.000000</td>\n",
       "      <td>0.000000</td>\n",
       "      <td>4.000000</td>\n",
       "    </tr>\n",
       "    <tr>\n",
       "      <th>50%</th>\n",
       "      <td>39487.000000</td>\n",
       "      <td>1.000000</td>\n",
       "      <td>26.000000</td>\n",
       "      <td>0.230769</td>\n",
       "      <td>2.000000</td>\n",
       "      <td>3.000000</td>\n",
       "      <td>1.000000</td>\n",
       "      <td>0.402985</td>\n",
       "      <td>0.709091</td>\n",
       "      <td>0.288703</td>\n",
       "      <td>...</td>\n",
       "      <td>0.000000</td>\n",
       "      <td>0.000000</td>\n",
       "      <td>0.000000</td>\n",
       "      <td>0.000000</td>\n",
       "      <td>0.000000</td>\n",
       "      <td>0.000000</td>\n",
       "      <td>0.000000</td>\n",
       "      <td>0.000000</td>\n",
       "      <td>0.000000</td>\n",
       "      <td>6.000000</td>\n",
       "    </tr>\n",
       "    <tr>\n",
       "      <th>75%</th>\n",
       "      <td>59211.000000</td>\n",
       "      <td>1.000000</td>\n",
       "      <td>26.000000</td>\n",
       "      <td>0.487179</td>\n",
       "      <td>2.000000</td>\n",
       "      <td>3.000000</td>\n",
       "      <td>1.000000</td>\n",
       "      <td>0.567164</td>\n",
       "      <td>0.763636</td>\n",
       "      <td>0.345188</td>\n",
       "      <td>...</td>\n",
       "      <td>0.000000</td>\n",
       "      <td>0.000000</td>\n",
       "      <td>0.000000</td>\n",
       "      <td>0.000000</td>\n",
       "      <td>0.000000</td>\n",
       "      <td>0.000000</td>\n",
       "      <td>0.000000</td>\n",
       "      <td>0.000000</td>\n",
       "      <td>0.000000</td>\n",
       "      <td>8.000000</td>\n",
       "    </tr>\n",
       "    <tr>\n",
       "      <th>max</th>\n",
       "      <td>79146.000000</td>\n",
       "      <td>2.000000</td>\n",
       "      <td>38.000000</td>\n",
       "      <td>1.000000</td>\n",
       "      <td>3.000000</td>\n",
       "      <td>3.000000</td>\n",
       "      <td>3.000000</td>\n",
       "      <td>1.000000</td>\n",
       "      <td>1.000000</td>\n",
       "      <td>1.000000</td>\n",
       "      <td>...</td>\n",
       "      <td>1.000000</td>\n",
       "      <td>1.000000</td>\n",
       "      <td>1.000000</td>\n",
       "      <td>1.000000</td>\n",
       "      <td>1.000000</td>\n",
       "      <td>1.000000</td>\n",
       "      <td>1.000000</td>\n",
       "      <td>1.000000</td>\n",
       "      <td>1.000000</td>\n",
       "      <td>8.000000</td>\n",
       "    </tr>\n",
       "  </tbody>\n",
       "</table>\n",
       "<p>8 rows × 127 columns</p>\n",
       "</div>"
      ],
      "text/plain": [
       "                 Id  Product_Info_1  Product_Info_3  Product_Info_4  \\\n",
       "count  59381.000000    59381.000000    59381.000000    59381.000000   \n",
       "mean   39507.211515        1.026355       24.415655        0.328952   \n",
       "std    22815.883089        0.160191        5.072885        0.282562   \n",
       "min        2.000000        1.000000        1.000000        0.000000   \n",
       "25%    19780.000000        1.000000       26.000000        0.076923   \n",
       "50%    39487.000000        1.000000       26.000000        0.230769   \n",
       "75%    59211.000000        1.000000       26.000000        0.487179   \n",
       "max    79146.000000        2.000000       38.000000        1.000000   \n",
       "\n",
       "       Product_Info_5  Product_Info_6  Product_Info_7       Ins_Age  \\\n",
       "count    59381.000000    59381.000000    59381.000000  59381.000000   \n",
       "mean         2.006955        2.673599        1.043583      0.405567   \n",
       "std          0.083107        0.739103        0.291949      0.197190   \n",
       "min          2.000000        1.000000        1.000000      0.000000   \n",
       "25%          2.000000        3.000000        1.000000      0.238806   \n",
       "50%          2.000000        3.000000        1.000000      0.402985   \n",
       "75%          2.000000        3.000000        1.000000      0.567164   \n",
       "max          3.000000        3.000000        3.000000      1.000000   \n",
       "\n",
       "                 Ht            Wt      ...       Medical_Keyword_40  \\\n",
       "count  59381.000000  59381.000000      ...             59381.000000   \n",
       "mean       0.707283      0.292587      ...                 0.056954   \n",
       "std        0.074239      0.089037      ...                 0.231757   \n",
       "min        0.000000      0.000000      ...                 0.000000   \n",
       "25%        0.654545      0.225941      ...                 0.000000   \n",
       "50%        0.709091      0.288703      ...                 0.000000   \n",
       "75%        0.763636      0.345188      ...                 0.000000   \n",
       "max        1.000000      1.000000      ...                 1.000000   \n",
       "\n",
       "       Medical_Keyword_41  Medical_Keyword_42  Medical_Keyword_43  \\\n",
       "count        59381.000000        59381.000000        59381.000000   \n",
       "mean             0.010054            0.045536            0.010710   \n",
       "std              0.099764            0.208479            0.102937   \n",
       "min              0.000000            0.000000            0.000000   \n",
       "25%              0.000000            0.000000            0.000000   \n",
       "50%              0.000000            0.000000            0.000000   \n",
       "75%              0.000000            0.000000            0.000000   \n",
       "max              1.000000            1.000000            1.000000   \n",
       "\n",
       "       Medical_Keyword_44  Medical_Keyword_45  Medical_Keyword_46  \\\n",
       "count        59381.000000        59381.000000        59381.000000   \n",
       "mean             0.007528            0.013691            0.008488   \n",
       "std              0.086436            0.116207            0.091737   \n",
       "min              0.000000            0.000000            0.000000   \n",
       "25%              0.000000            0.000000            0.000000   \n",
       "50%              0.000000            0.000000            0.000000   \n",
       "75%              0.000000            0.000000            0.000000   \n",
       "max              1.000000            1.000000            1.000000   \n",
       "\n",
       "       Medical_Keyword_47  Medical_Keyword_48      Response  \n",
       "count        59381.000000        59381.000000  59381.000000  \n",
       "mean             0.019905            0.054496      5.636837  \n",
       "std              0.139676            0.226995      2.456833  \n",
       "min              0.000000            0.000000      1.000000  \n",
       "25%              0.000000            0.000000      4.000000  \n",
       "50%              0.000000            0.000000      6.000000  \n",
       "75%              0.000000            0.000000      8.000000  \n",
       "max              1.000000            1.000000      8.000000  \n",
       "\n",
       "[8 rows x 127 columns]"
      ]
     },
     "execution_count": 182,
     "metadata": {},
     "output_type": "execute_result"
    }
   ],
   "source": [
    "import seaborn as sns\n",
    "import matplotlib.pyplot as plt\n",
    "%matplotlib inline\n",
    "Underwriting_df = pd.read_csv(your_local_path+\"train.csv\")\n",
    "Underwriting_df.describe()"
   ]
  },
  {
   "cell_type": "code",
   "execution_count": 183,
   "metadata": {
    "scrolled": true
   },
   "outputs": [],
   "source": [
    "corr= Underwriting_df.corr()\n"
   ]
  },
  {
   "cell_type": "code",
   "execution_count": 184,
   "metadata": {},
   "outputs": [
    {
     "data": {
      "text/html": [
       "<div>\n",
       "<style scoped>\n",
       "    .dataframe tbody tr th:only-of-type {\n",
       "        vertical-align: middle;\n",
       "    }\n",
       "\n",
       "    .dataframe tbody tr th {\n",
       "        vertical-align: top;\n",
       "    }\n",
       "\n",
       "    .dataframe thead th {\n",
       "        text-align: right;\n",
       "    }\n",
       "</style>\n",
       "<table border=\"1\" class=\"dataframe\">\n",
       "  <thead>\n",
       "    <tr style=\"text-align: right;\">\n",
       "      <th></th>\n",
       "      <th>Id</th>\n",
       "      <th>Product_Info_1</th>\n",
       "      <th>Product_Info_3</th>\n",
       "      <th>Product_Info_4</th>\n",
       "      <th>Product_Info_5</th>\n",
       "      <th>Product_Info_6</th>\n",
       "      <th>Product_Info_7</th>\n",
       "      <th>Ins_Age</th>\n",
       "      <th>Ht</th>\n",
       "      <th>Wt</th>\n",
       "      <th>...</th>\n",
       "      <th>Medical_Keyword_40</th>\n",
       "      <th>Medical_Keyword_41</th>\n",
       "      <th>Medical_Keyword_42</th>\n",
       "      <th>Medical_Keyword_43</th>\n",
       "      <th>Medical_Keyword_44</th>\n",
       "      <th>Medical_Keyword_45</th>\n",
       "      <th>Medical_Keyword_46</th>\n",
       "      <th>Medical_Keyword_47</th>\n",
       "      <th>Medical_Keyword_48</th>\n",
       "      <th>Response</th>\n",
       "    </tr>\n",
       "  </thead>\n",
       "  <tbody>\n",
       "    <tr>\n",
       "      <th>Id</th>\n",
       "      <td>1.0</td>\n",
       "      <td>-0.00287</td>\n",
       "      <td>-0.001869</td>\n",
       "      <td>-0.002914</td>\n",
       "      <td>-0.004195</td>\n",
       "      <td>0.005038</td>\n",
       "      <td>0.002117</td>\n",
       "      <td>0.001764</td>\n",
       "      <td>0.003674</td>\n",
       "      <td>0.005648</td>\n",
       "      <td>...</td>\n",
       "      <td>-0.001746</td>\n",
       "      <td>0.005721</td>\n",
       "      <td>-0.004575</td>\n",
       "      <td>-0.007633</td>\n",
       "      <td>0.001917</td>\n",
       "      <td>-0.000286</td>\n",
       "      <td>0.002684</td>\n",
       "      <td>0.001199</td>\n",
       "      <td>-0.001122</td>\n",
       "      <td>0.000462</td>\n",
       "    </tr>\n",
       "  </tbody>\n",
       "</table>\n",
       "<p>1 rows × 127 columns</p>\n",
       "</div>"
      ],
      "text/plain": [
       "     Id  Product_Info_1  Product_Info_3  Product_Info_4  Product_Info_5  \\\n",
       "Id  1.0        -0.00287       -0.001869       -0.002914       -0.004195   \n",
       "\n",
       "    Product_Info_6  Product_Info_7   Ins_Age        Ht        Wt    ...     \\\n",
       "Id        0.005038        0.002117  0.001764  0.003674  0.005648    ...      \n",
       "\n",
       "    Medical_Keyword_40  Medical_Keyword_41  Medical_Keyword_42  \\\n",
       "Id           -0.001746            0.005721           -0.004575   \n",
       "\n",
       "    Medical_Keyword_43  Medical_Keyword_44  Medical_Keyword_45  \\\n",
       "Id           -0.007633            0.001917           -0.000286   \n",
       "\n",
       "    Medical_Keyword_46  Medical_Keyword_47  Medical_Keyword_48  Response  \n",
       "Id            0.002684            0.001199           -0.001122  0.000462  \n",
       "\n",
       "[1 rows x 127 columns]"
      ]
     },
     "execution_count": 184,
     "metadata": {},
     "output_type": "execute_result"
    }
   ],
   "source": [
    "corr[0:1]"
   ]
  },
  {
   "cell_type": "code",
   "execution_count": 101,
   "metadata": {},
   "outputs": [],
   "source": [
    "#Underwriting_df.isna().sum() <0"
   ]
  },
  {
   "cell_type": "code",
   "execution_count": 102,
   "metadata": {},
   "outputs": [],
   "source": [
    "#import seaborn as sns\n",
    "#sns.heatmap(corr,annot=True)"
   ]
  },
  {
   "cell_type": "code",
   "execution_count": 103,
   "metadata": {},
   "outputs": [],
   "source": [
    "#'FCDX7'\n",
    "#Underwriting_df = Underwriting_df.drop(['FCDX7'],axis=1)"
   ]
  },
  {
   "cell_type": "code",
   "execution_count": 185,
   "metadata": {},
   "outputs": [],
   "source": [
    "# Stratified sampling\n",
    "#Underwriting_df.dtypes = int\n",
    "df_columns=['Product_Info_1','Product_Info_3','Product_Info_4','Product_Info_5','Product_Info_6','Product_Info_7','Ins_Age'\n",
    ",'Ht','Wt','BMI','Employment_Info_1','Employment_Info_2','Employment_Info_3','Employment_Info_4','Employment_Info_5','Employment_Info_6'\n",
    "          ,'InsuredInfo_1','InsuredInfo_2','InsuredInfo_3','InsuredInfo_4','InsuredInfo_5','InsuredInfo_6','InsuredInfo_7'\n",
    "           ,'Insurance_History_1','Insurance_History_2','Insurance_History_3','Insurance_History_4','Insurance_History_5',\n",
    "            'Insurance_History_7','Insurance_History_8','Insurance_History_9','Family_Hist_1','Family_Hist_2','Family_Hist_3','Family_Hist_4',\n",
    "           'Family_Hist_5','Medical_History_1','Medical_History_2','Medical_History_3','Medical_History_4','Medical_History_5','Medical_History_6','Medical_History_7'\n",
    "           ,'Medical_History_8','Medical_History_9','Medical_History_10','Medical_History_11','Medical_History_12','Medical_History_13','Medical_History_14'\n",
    "           ,'Medical_History_15','Medical_History_16','Medical_History_17','Medical_History_18','Medical_History_19','Medical_History_20'\n",
    "           ,'Medical_History_21','Medical_History_22','Medical_History_23','Medical_History_24','Medical_History_25','Medical_History_26','Medical_History_27'\n",
    "           ,'Medical_History_28','Medical_History_29','Medical_History_30','Medical_History_31','Medical_History_32','Medical_History_33','Medical_History_34'\n",
    "           ,'Medical_History_35','Medical_History_36','Medical_History_37','Medical_History_38','Medical_History_39','Medical_History_40','Medical_History_41','Medical_Keyword_1'\n",
    "           ,'Medical_Keyword_2','Medical_Keyword_3','Medical_Keyword_4','Medical_Keyword_5','Medical_Keyword_6','Medical_Keyword_7','Medical_Keyword_8'\n",
    "           ,'Medical_Keyword_9','Medical_Keyword_10','Medical_Keyword_11','Medical_Keyword_12','Medical_Keyword_13','Medical_Keyword_14','Medical_Keyword_15'\n",
    "           ,'Medical_Keyword_16','Medical_Keyword_17','Medical_Keyword_18','Medical_Keyword_19','Medical_Keyword_20','Medical_Keyword_21','Medical_Keyword_22'\n",
    "           ,'Medical_Keyword_23','Medical_Keyword_24','Medical_Keyword_25','Medical_Keyword_26','Medical_Keyword_27','Medical_Keyword_28','Medical_Keyword_29'\n",
    "           ,'Medical_Keyword_30','Medical_Keyword_31','Medical_Keyword_32','Medical_Keyword_33','Medical_Keyword_34','Medical_Keyword_35','Medical_Keyword_36'\n",
    "           ,'Medical_Keyword_37','Medical_Keyword_38','Medical_Keyword_39','Medical_Keyword_40','Medical_Keyword_41','Medical_Keyword_42','Medical_Keyword_43'\n",
    "           ,'Medical_Keyword_44','Medical_Keyword_45','Medical_Keyword_46','Medical_Keyword_47','Medical_Keyword_48']\n",
    "x=Underwriting_df[df_columns]\n",
    "#x=Underwriting_df\n",
    "y=Underwriting_df['Response']\n",
    "from sklearn.model_selection import train_test_split\n",
    "X_train, X_test, y_train, y_test = train_test_split(x, y, test_size=0.33, random_state=101,stratify=y)"
   ]
  },
  {
   "cell_type": "code",
   "execution_count": 189,
   "metadata": {
    "scrolled": true
   },
   "outputs": [],
   "source": [
    "# Importing the packages for Decision Tree Classifier\n",
    "#from sklearn import tree\n",
    "#my_tree_one = tree.DecisionTreeClassifier(criterion=\"entropy\", max_depth=3, random_state=101, min_samples_leaf=3, class_weight=\"balanced\")  #, class_weight=\"balanced\"\n",
    "#my_tree_one"
   ]
  },
  {
   "cell_type": "code",
   "execution_count": 190,
   "metadata": {
    "scrolled": true
   },
   "outputs": [],
   "source": [
    "#my_tree_one = my_tree_one.fit(X_train, y_train)"
   ]
  },
  {
   "cell_type": "code",
   "execution_count": 191,
   "metadata": {},
   "outputs": [],
   "source": [
    "#list(zip(X_train.columns,my_tree_one.feature_importances_))"
   ]
  },
  {
   "cell_type": "code",
   "execution_count": 153,
   "metadata": {},
   "outputs": [],
   "source": [
    "#featured_cols=['Product_Info_4','BMI','Medical_History_15']\n",
    "#{'n_estimators': 733, 'min_samples_split': 5, 'min_samples_leaf': 1, 'max_features': 'sqrt', 'max_depth': 30, 'bootstrap': True}"
   ]
  },
  {
   "cell_type": "code",
   "execution_count": 216,
   "metadata": {},
   "outputs": [
    {
     "ename": "SyntaxError",
     "evalue": "invalid syntax (<ipython-input-216-7513f168820d>, line 8)",
     "output_type": "error",
     "traceback": [
      "\u001b[1;36m  File \u001b[1;32m\"<ipython-input-216-7513f168820d>\"\u001b[1;36m, line \u001b[1;32m8\u001b[0m\n\u001b[1;33m    forest = RandomForestClassifier(criterion= 'gini',n_estimators== 733, min_samples_split= 5, min_samples_leaf= 1, max_features=max_features, max_depth= 30, bootstrap: True)\u001b[0m\n\u001b[1;37m                                                                                                                                                                        ^\u001b[0m\n\u001b[1;31mSyntaxError\u001b[0m\u001b[1;31m:\u001b[0m invalid syntax\n"
     ]
    }
   ],
   "source": [
    "# Building and fitting Random Forest\n",
    "\n",
    "from sklearn.ensemble import RandomForestClassifier\n",
    "\n",
    "#forest = RandomForestClassifier(criterion = 'gini',  n_estimators = 733, max_depth = 10, random_state = 101, class_weight=\"balanced\")\n",
    "mx_features =['sqrt']\n",
    "\n",
    "forest = RandomForestClassifier(criterion= 'gini',n_estimators== 733, min_samples_split= 5, min_samples_leaf= 1, max_features=mx_features, max_depth= 30, bootstrap: True)"
   ]
  },
  {
   "cell_type": "code",
   "execution_count": 193,
   "metadata": {},
   "outputs": [],
   "source": [
    "my_forest = forest.fit(X_train, y_train)"
   ]
  },
  {
   "cell_type": "code",
   "execution_count": 194,
   "metadata": {},
   "outputs": [
    {
     "name": "stdout",
     "output_type": "stream",
     "text": [
      "0.5850194797034058\n"
     ]
    }
   ],
   "source": [
    "print(my_forest.score(X_train, y_train))"
   ]
  },
  {
   "cell_type": "code",
   "execution_count": 195,
   "metadata": {},
   "outputs": [],
   "source": [
    "# Making predictions\n",
    "\n",
    "pred = my_forest.predict(X_test)"
   ]
  },
  {
   "cell_type": "code",
   "execution_count": 196,
   "metadata": {},
   "outputs": [
    {
     "data": {
      "text/plain": [
       "[('Product_Info_1', 0.0007928883214360109),\n",
       " ('Product_Info_3', 0.0032680274925723086),\n",
       " ('Product_Info_4', 0.06767370484613262),\n",
       " ('Product_Info_5', 0.00020348447760513107),\n",
       " ('Product_Info_6', 0.0016966289944958346),\n",
       " ('Product_Info_7', 0.0006208184453658213),\n",
       " ('Ins_Age', 0.028394284841337002),\n",
       " ('Ht', 0.014913472842781973),\n",
       " ('Wt', 0.06640054403743029),\n",
       " ('BMI', 0.11981548027780425),\n",
       " ('Employment_Info_1', 0.016114196140035366),\n",
       " ('Employment_Info_2', 0.00792422822423976),\n",
       " ('Employment_Info_3', 0.004574860099076125),\n",
       " ('Employment_Info_4', 0.0057295935537291535),\n",
       " ('Employment_Info_5', 0.001908534032234459),\n",
       " ('Employment_Info_6', 0.012930427427766527),\n",
       " ('InsuredInfo_1', 0.0024887180880078567),\n",
       " ('InsuredInfo_2', 0.001802208272429153),\n",
       " ('InsuredInfo_3', 0.006279161245172173),\n",
       " ('InsuredInfo_4', 0.002147381042191239),\n",
       " ('InsuredInfo_5', 0.0023176038618849034),\n",
       " ('InsuredInfo_6', 0.011197475589066853),\n",
       " ('InsuredInfo_7', 0.0030955687126387344),\n",
       " ('Insurance_History_1', 0.0022878058229398065),\n",
       " ('Insurance_History_2', 0.0021394259058226143),\n",
       " ('Insurance_History_3', 0.0021742681219997046),\n",
       " ('Insurance_History_4', 0.003436935511127502),\n",
       " ('Insurance_History_5', 0.011160874288878013),\n",
       " ('Insurance_History_7', 0.002804480193187264),\n",
       " ('Insurance_History_8', 0.002952122198270089),\n",
       " ('Insurance_History_9', 0.0026235217404911326),\n",
       " ('Family_Hist_1', 0.003689654237158789),\n",
       " ('Family_Hist_2', 0.011865315264882263),\n",
       " ('Family_Hist_3', 0.012057054527410911),\n",
       " ('Family_Hist_4', 0.015365292690981424),\n",
       " ('Family_Hist_5', 0.009923491537327514),\n",
       " ('Medical_History_1', 0.0123089491710894),\n",
       " ('Medical_History_2', 0.01119171994925272),\n",
       " ('Medical_History_3', 0.0015183759618690514),\n",
       " ('Medical_History_4', 0.09055917621450456),\n",
       " ('Medical_History_5', 0.0006602305475153118),\n",
       " ('Medical_History_6', 0.002786925990793236),\n",
       " ('Medical_History_7', 0.001377574595584532),\n",
       " ('Medical_History_8', 0.0019582337752407524),\n",
       " ('Medical_History_9', 0.0026575598418739827),\n",
       " ('Medical_History_10', 0.00039466877310909273),\n",
       " ('Medical_History_11', 0.00033518035171638906),\n",
       " ('Medical_History_12', 0.0013531673311440965),\n",
       " ('Medical_History_13', 0.004234095226016823),\n",
       " ('Medical_History_14', 0.0009837878124918343),\n",
       " ('Medical_History_15', 0.24302033639353782),\n",
       " ('Medical_History_16', 0.0024616107947368865),\n",
       " ('Medical_History_17', 0.0009758027847332902),\n",
       " ('Medical_History_18', 0.0021274252559756353),\n",
       " ('Medical_History_19', 0.0013014666308861877),\n",
       " ('Medical_History_20', 0.0011625974987111419),\n",
       " ('Medical_History_21', 0.0014643587955775516),\n",
       " ('Medical_History_22', 0.00086243637353828),\n",
       " ('Medical_History_23', 0.019131847114389287),\n",
       " ('Medical_History_24', 0.002416978187647408),\n",
       " ('Medical_History_25', 0.002082268927091212),\n",
       " ('Medical_History_26', 0.0017472685516917608),\n",
       " ('Medical_History_27', 0.000678509101746263),\n",
       " ('Medical_History_28', 0.003833834586696343),\n",
       " ('Medical_History_29', 0.0018628501202148722),\n",
       " ('Medical_History_30', 0.004429232059265912),\n",
       " ('Medical_History_31', 0.000341586673414542),\n",
       " ('Medical_History_32', 0.0013503948694145176),\n",
       " ('Medical_History_33', 0.00690875277480529),\n",
       " ('Medical_History_34', 0.002007100382385255),\n",
       " ('Medical_History_35', 6.654254631082487e-05),\n",
       " ('Medical_History_36', 0.002032259236282911),\n",
       " ('Medical_History_37', 0.001391044601989386),\n",
       " ('Medical_History_38', 0.0003455258906397339),\n",
       " ('Medical_History_39', 0.012222819877226287),\n",
       " ('Medical_History_40', 0.0033980951026655946),\n",
       " ('Medical_History_41', 0.0028885536920455397),\n",
       " ('Medical_Keyword_1', 0.0011006083074792644),\n",
       " ('Medical_Keyword_2', 0.0005499675444237594),\n",
       " ('Medical_Keyword_3', 0.019152897728627362),\n",
       " ('Medical_Keyword_4', 0.0005204403386379822),\n",
       " ('Medical_Keyword_5', 0.0007913729343946307),\n",
       " ('Medical_Keyword_6', 0.0005190287097534295),\n",
       " ('Medical_Keyword_7', 0.0006666674348026182),\n",
       " ('Medical_Keyword_8', 0.0006825851096467979),\n",
       " ('Medical_Keyword_9', 0.0003899377164223755),\n",
       " ('Medical_Keyword_10', 0.0011914160532784392),\n",
       " ('Medical_Keyword_11', 0.0013801398287465617),\n",
       " ('Medical_Keyword_12', 0.0005098174743254183),\n",
       " ('Medical_Keyword_13', 0.00015607074091087105),\n",
       " ('Medical_Keyword_14', 0.00019709482951840338),\n",
       " ('Medical_Keyword_15', 0.020083413955412032),\n",
       " ('Medical_Keyword_16', 0.0005772374912825604),\n",
       " ('Medical_Keyword_17', 0.0005237273271484046),\n",
       " ('Medical_Keyword_18', 0.0003470678556681631),\n",
       " ('Medical_Keyword_19', 0.0002806921625324151),\n",
       " ('Medical_Keyword_20', 0.00016431653926977458),\n",
       " ('Medical_Keyword_21', 0.000419425135822974),\n",
       " ('Medical_Keyword_22', 0.001070473135978011),\n",
       " ('Medical_Keyword_23', 0.006569035316797229),\n",
       " ('Medical_Keyword_24', 0.0006074735785683711),\n",
       " ('Medical_Keyword_25', 0.0017096057918017343),\n",
       " ('Medical_Keyword_26', 0.0006067357554610592),\n",
       " ('Medical_Keyword_27', 0.0005436565274552396),\n",
       " ('Medical_Keyword_28', 0.00043101474557213074),\n",
       " ('Medical_Keyword_29', 0.0003978645726558899),\n",
       " ('Medical_Keyword_30', 0.0006447286426451943),\n",
       " ('Medical_Keyword_31', 0.0009482045390460801),\n",
       " ('Medical_Keyword_32', 0.0008512716155938537),\n",
       " ('Medical_Keyword_33', 0.0009101122021661211),\n",
       " ('Medical_Keyword_34', 0.000579512104847852),\n",
       " ('Medical_Keyword_35', 0.0002897225898507988),\n",
       " ('Medical_Keyword_36', 0.0005991151364453325),\n",
       " ('Medical_Keyword_37', 0.0020168243834952403),\n",
       " ('Medical_Keyword_38', 0.0011424409639356201),\n",
       " ('Medical_Keyword_39', 0.00048158037439805136),\n",
       " ('Medical_Keyword_40', 0.00167030596021273),\n",
       " ('Medical_Keyword_41', 0.0003381754639203156),\n",
       " ('Medical_Keyword_42', 0.0015883848160675403),\n",
       " ('Medical_Keyword_43', 0.0004371007871811362),\n",
       " ('Medical_Keyword_44', 0.0004218185718662472),\n",
       " ('Medical_Keyword_45', 0.0006152242141963664),\n",
       " ('Medical_Keyword_46', 0.0005504664615636133),\n",
       " ('Medical_Keyword_47', 0.0008540866487331966),\n",
       " ('Medical_Keyword_48', 0.003320462609708752)]"
      ]
     },
     "execution_count": 196,
     "metadata": {},
     "output_type": "execute_result"
    }
   ],
   "source": [
    "list(zip(X_train.columns,my_forest.feature_importances_))"
   ]
  },
  {
   "cell_type": "code",
   "execution_count": 197,
   "metadata": {
    "scrolled": true
   },
   "outputs": [
    {
     "data": {
      "text/plain": [
       "array([[ 394,  270,   80,   96,  300,  209,  293,  406],\n",
       "       [ 226,  465,   67,   81,  395,  249,  300,  379],\n",
       "       [   7,    1,  175,   97,   24,    8,    8,   14],\n",
       "       [   5,    0,   38,  350,    4,   25,    7,   42],\n",
       "       [  67,  143,    5,    3, 1166,  121,  118,  170],\n",
       "       [ 228,  244,    8,   76,  596, 1257,  605,  693],\n",
       "       [ 112,   38,    0,   27,  133,  380, 1080,  879],\n",
       "       [  54,   16,    0,   50,   35,  630,  440, 5207]], dtype=int64)"
      ]
     },
     "execution_count": 197,
     "metadata": {},
     "output_type": "execute_result"
    }
   ],
   "source": [
    "from sklearn.metrics import confusion_matrix, classification_report\n",
    "\n",
    "df_confusion_rf = confusion_matrix(y_test, pred)\n",
    "df_confusion_rf"
   ]
  },
  {
   "cell_type": "code",
   "execution_count": 198,
   "metadata": {},
   "outputs": [
    {
     "data": {
      "text/plain": [
       "<matplotlib.axes._subplots.AxesSubplot at 0x1f6f03907f0>"
      ]
     },
     "execution_count": 198,
     "metadata": {},
     "output_type": "execute_result"
    },
    {
     "data": {
      "image/png": "[encoded data removed]",
      "text/plain": [
       "<Figure size 432x288 with 2 Axes>"
      ]
     },
     "metadata": {
      "needs_background": "light"
     },
     "output_type": "display_data"
    }
   ],
   "source": [
    "cmap = sns.cubehelix_palette(50, hue=0.05, rot=0, light=0.9, dark=0, as_cmap=True)\n",
    "sns.heatmap(df_confusion_rf, cmap = cmap,xticklabels=['Prediction No','Prediction Yes'],yticklabels=['Actual No','Actual Yes'], annot=True,\n",
    "            fmt='d')"
   ]
  },
  {
   "cell_type": "code",
   "execution_count": 199,
   "metadata": {},
   "outputs": [],
   "source": [
    "#metrics.co"
   ]
  },
  {
   "cell_type": "code",
   "execution_count": 200,
   "metadata": {},
   "outputs": [],
   "source": [
    "# Different parameters we want to test\n",
    "\n",
    "# Number of trees in random forest\n",
    "n_estimators = [int(x) for x in np.linspace(start = 200, stop = 1000, num = 10)]\n",
    "# Number of features to consider at every split\n",
    "max_features = ['auto', 'sqrt']\n",
    "# Maximum number of levels in tree\n",
    "max_depth = [int(x) for x in np.linspace(10, 110, num = 11)]\n",
    "max_depth.append(None)\n",
    "# Minimum number of samples required to split a node\n",
    "min_samples_split = [2, 5, 10]\n",
    "# Minimum number of samples required at each leaf node\n",
    "min_samples_leaf = [1, 2, 4]\n",
    "# Method of selecting samples for training each tree\n",
    "bootstrap = [True, False]"
   ]
  },
  {
   "cell_type": "code",
   "execution_count": 201,
   "metadata": {},
   "outputs": [],
   "source": [
    "random_grid = {'n_estimators': n_estimators,\n",
    "               'max_features': max_features,\n",
    "               'max_depth': max_depth,\n",
    "               'min_samples_split': min_samples_split,\n",
    "               'min_samples_leaf': min_samples_leaf,\n",
    "               'bootstrap': bootstrap}"
   ]
  },
  {
   "cell_type": "code",
   "execution_count": 209,
   "metadata": {},
   "outputs": [],
   "source": [
    "from sklearn.model_selection import RandomizedSearchCV\n",
    "forest_two = RandomForestClassifier(class_weight=\"balanced\")\n",
    "\n",
    "# Fitting 3 folds for each of 100 candidates, totalling 300 fits\n",
    "rf_random = RandomizedSearchCV(estimator = forest_two, param_distributions = random_grid, \n",
    "                               n_iter = 10, cv = 3, verbose=2, random_state=42)"
   ]
  },
  {
   "cell_type": "code",
   "execution_count": 210,
   "metadata": {},
   "outputs": [],
   "source": [
    "forest_two = RandomForestClassifier(class_weight=\"balanced\")\n",
    "\n",
    "# Fitting 3 folds for each of 100 candidates, totalling 300 fits\n",
    "rf_random = RandomizedSearchCV(estimator = forest_two, param_distributions = random_grid, \n",
    "                               n_iter = 10, cv = 3, verbose=2, random_state=42)"
   ]
  },
  {
   "cell_type": "code",
   "execution_count": 211,
   "metadata": {},
   "outputs": [
    {
     "name": "stdout",
     "output_type": "stream",
     "text": [
      "Fitting 3 folds for each of 10 candidates, totalling 30 fits\n",
      "[CV] n_estimators=200, min_samples_split=10, min_samples_leaf=2, max_features=sqrt, max_depth=50, bootstrap=True \n"
     ]
    },
    {
     "name": "stderr",
     "output_type": "stream",
     "text": [
      "[Parallel(n_jobs=1)]: Using backend SequentialBackend with 1 concurrent workers.\n"
     ]
    },
    {
     "name": "stdout",
     "output_type": "stream",
     "text": [
      "[CV]  n_estimators=200, min_samples_split=10, min_samples_leaf=2, max_features=sqrt, max_depth=50, bootstrap=True, total=  15.0s\n",
      "[CV] n_estimators=200, min_samples_split=10, min_samples_leaf=2, max_features=sqrt, max_depth=50, bootstrap=True \n"
     ]
    },
    {
     "name": "stderr",
     "output_type": "stream",
     "text": [
      "[Parallel(n_jobs=1)]: Done   1 out of   1 | elapsed:   17.1s remaining:    0.0s\n"
     ]
    },
    {
     "name": "stdout",
     "output_type": "stream",
     "text": [
      "[CV]  n_estimators=200, min_samples_split=10, min_samples_leaf=2, max_features=sqrt, max_depth=50, bootstrap=True, total=  15.4s\n",
      "[CV] n_estimators=200, min_samples_split=10, min_samples_leaf=2, max_features=sqrt, max_depth=50, bootstrap=True \n",
      "[CV]  n_estimators=200, min_samples_split=10, min_samples_leaf=2, max_features=sqrt, max_depth=50, bootstrap=True, total=  17.0s\n",
      "[CV] n_estimators=377, min_samples_split=10, min_samples_leaf=4, max_features=sqrt, max_depth=90, bootstrap=False \n",
      "[CV]  n_estimators=377, min_samples_split=10, min_samples_leaf=4, max_features=sqrt, max_depth=90, bootstrap=False, total=  53.5s\n",
      "[CV] n_estimators=377, min_samples_split=10, min_samples_leaf=4, max_features=sqrt, max_depth=90, bootstrap=False \n",
      "[CV]  n_estimators=377, min_samples_split=10, min_samples_leaf=4, max_features=sqrt, max_depth=90, bootstrap=False, total=  55.6s\n",
      "[CV] n_estimators=377, min_samples_split=10, min_samples_leaf=4, max_features=sqrt, max_depth=90, bootstrap=False \n",
      "[CV]  n_estimators=377, min_samples_split=10, min_samples_leaf=4, max_features=sqrt, max_depth=90, bootstrap=False, total=  54.7s\n",
      "[CV] n_estimators=377, min_samples_split=2, min_samples_leaf=2, max_features=auto, max_depth=60, bootstrap=False \n",
      "[CV]  n_estimators=377, min_samples_split=2, min_samples_leaf=2, max_features=auto, max_depth=60, bootstrap=False, total=  59.1s\n",
      "[CV] n_estimators=377, min_samples_split=2, min_samples_leaf=2, max_features=auto, max_depth=60, bootstrap=False \n",
      "[CV]  n_estimators=377, min_samples_split=2, min_samples_leaf=2, max_features=auto, max_depth=60, bootstrap=False, total=  41.2s\n",
      "[CV] n_estimators=377, min_samples_split=2, min_samples_leaf=2, max_features=auto, max_depth=60, bootstrap=False \n",
      "[CV]  n_estimators=377, min_samples_split=2, min_samples_leaf=2, max_features=auto, max_depth=60, bootstrap=False, total=  43.3s\n",
      "[CV] n_estimators=733, min_samples_split=5, min_samples_leaf=1, max_features=sqrt, max_depth=30, bootstrap=True \n",
      "[CV]  n_estimators=733, min_samples_split=5, min_samples_leaf=1, max_features=sqrt, max_depth=30, bootstrap=True, total=  58.9s\n",
      "[CV] n_estimators=733, min_samples_split=5, min_samples_leaf=1, max_features=sqrt, max_depth=30, bootstrap=True \n",
      "[CV]  n_estimators=733, min_samples_split=5, min_samples_leaf=1, max_features=sqrt, max_depth=30, bootstrap=True, total=  54.0s\n",
      "[CV] n_estimators=733, min_samples_split=5, min_samples_leaf=1, max_features=sqrt, max_depth=30, bootstrap=True \n",
      "[CV]  n_estimators=733, min_samples_split=5, min_samples_leaf=1, max_features=sqrt, max_depth=30, bootstrap=True, total=  54.5s\n",
      "[CV] n_estimators=555, min_samples_split=10, min_samples_leaf=1, max_features=auto, max_depth=80, bootstrap=False \n",
      "[CV]  n_estimators=555, min_samples_split=10, min_samples_leaf=1, max_features=auto, max_depth=80, bootstrap=False, total=  58.8s\n",
      "[CV] n_estimators=555, min_samples_split=10, min_samples_leaf=1, max_features=auto, max_depth=80, bootstrap=False \n",
      "[CV]  n_estimators=555, min_samples_split=10, min_samples_leaf=1, max_features=auto, max_depth=80, bootstrap=False, total=  58.7s\n",
      "[CV] n_estimators=555, min_samples_split=10, min_samples_leaf=1, max_features=auto, max_depth=80, bootstrap=False \n",
      "[CV]  n_estimators=555, min_samples_split=10, min_samples_leaf=1, max_features=auto, max_depth=80, bootstrap=False, total=  58.3s\n",
      "[CV] n_estimators=288, min_samples_split=10, min_samples_leaf=1, max_features=sqrt, max_depth=60, bootstrap=False \n",
      "[CV]  n_estimators=288, min_samples_split=10, min_samples_leaf=1, max_features=sqrt, max_depth=60, bootstrap=False, total=  29.9s\n",
      "[CV] n_estimators=288, min_samples_split=10, min_samples_leaf=1, max_features=sqrt, max_depth=60, bootstrap=False \n",
      "[CV]  n_estimators=288, min_samples_split=10, min_samples_leaf=1, max_features=sqrt, max_depth=60, bootstrap=False, total=  29.9s\n",
      "[CV] n_estimators=288, min_samples_split=10, min_samples_leaf=1, max_features=sqrt, max_depth=60, bootstrap=False \n",
      "[CV]  n_estimators=288, min_samples_split=10, min_samples_leaf=1, max_features=sqrt, max_depth=60, bootstrap=False, total=  29.9s\n",
      "[CV] n_estimators=1000, min_samples_split=2, min_samples_leaf=2, max_features=auto, max_depth=50, bootstrap=False \n",
      "[CV]  n_estimators=1000, min_samples_split=2, min_samples_leaf=2, max_features=auto, max_depth=50, bootstrap=False, total= 1.8min\n",
      "[CV] n_estimators=1000, min_samples_split=2, min_samples_leaf=2, max_features=auto, max_depth=50, bootstrap=False \n",
      "[CV]  n_estimators=1000, min_samples_split=2, min_samples_leaf=2, max_features=auto, max_depth=50, bootstrap=False, total= 1.8min\n",
      "[CV] n_estimators=1000, min_samples_split=2, min_samples_leaf=2, max_features=auto, max_depth=50, bootstrap=False \n",
      "[CV]  n_estimators=1000, min_samples_split=2, min_samples_leaf=2, max_features=auto, max_depth=50, bootstrap=False, total= 1.8min\n",
      "[CV] n_estimators=200, min_samples_split=5, min_samples_leaf=2, max_features=sqrt, max_depth=10, bootstrap=True \n",
      "[CV]  n_estimators=200, min_samples_split=5, min_samples_leaf=2, max_features=sqrt, max_depth=10, bootstrap=True, total=   6.1s\n",
      "[CV] n_estimators=200, min_samples_split=5, min_samples_leaf=2, max_features=sqrt, max_depth=10, bootstrap=True \n",
      "[CV]  n_estimators=200, min_samples_split=5, min_samples_leaf=2, max_features=sqrt, max_depth=10, bootstrap=True, total=   6.8s\n",
      "[CV] n_estimators=200, min_samples_split=5, min_samples_leaf=2, max_features=sqrt, max_depth=10, bootstrap=True \n",
      "[CV]  n_estimators=200, min_samples_split=5, min_samples_leaf=2, max_features=sqrt, max_depth=10, bootstrap=True, total=   6.4s\n",
      "[CV] n_estimators=644, min_samples_split=2, min_samples_leaf=4, max_features=auto, max_depth=100, bootstrap=True \n",
      "[CV]  n_estimators=644, min_samples_split=2, min_samples_leaf=4, max_features=auto, max_depth=100, bootstrap=True, total=  38.6s\n",
      "[CV] n_estimators=644, min_samples_split=2, min_samples_leaf=4, max_features=auto, max_depth=100, bootstrap=True \n",
      "[CV]  n_estimators=644, min_samples_split=2, min_samples_leaf=4, max_features=auto, max_depth=100, bootstrap=True, total=  39.2s\n",
      "[CV] n_estimators=644, min_samples_split=2, min_samples_leaf=4, max_features=auto, max_depth=100, bootstrap=True \n",
      "[CV]  n_estimators=644, min_samples_split=2, min_samples_leaf=4, max_features=auto, max_depth=100, bootstrap=True, total=  39.2s\n",
      "[CV] n_estimators=1000, min_samples_split=5, min_samples_leaf=2, max_features=auto, max_depth=50, bootstrap=True \n",
      "[CV]  n_estimators=1000, min_samples_split=5, min_samples_leaf=2, max_features=auto, max_depth=50, bootstrap=True, total= 1.2min\n",
      "[CV] n_estimators=1000, min_samples_split=5, min_samples_leaf=2, max_features=auto, max_depth=50, bootstrap=True \n",
      "[CV]  n_estimators=1000, min_samples_split=5, min_samples_leaf=2, max_features=auto, max_depth=50, bootstrap=True, total= 1.2min\n",
      "[CV] n_estimators=1000, min_samples_split=5, min_samples_leaf=2, max_features=auto, max_depth=50, bootstrap=True \n",
      "[CV]  n_estimators=1000, min_samples_split=5, min_samples_leaf=2, max_features=auto, max_depth=50, bootstrap=True, total= 1.2min\n"
     ]
    },
    {
     "name": "stderr",
     "output_type": "stream",
     "text": [
      "[Parallel(n_jobs=1)]: Done  30 out of  30 | elapsed: 27.6min finished\n"
     ]
    },
    {
     "data": {
      "text/plain": [
       "RandomizedSearchCV(cv=3, error_score='raise-deprecating',\n",
       "          estimator=RandomForestClassifier(bootstrap=True, class_weight='balanced',\n",
       "            criterion='gini', max_depth=None, max_features='auto',\n",
       "            max_leaf_nodes=None, min_impurity_decrease=0.0,\n",
       "            min_impurity_split=None, min_samples_leaf=1,\n",
       "            min_samples_split=2, min_weight_fraction_leaf=0.0,\n",
       "            n_estimators='warn', n_jobs=None, oob_score=False,\n",
       "            random_state=None, verbose=0, warm_start=False),\n",
       "          fit_params=None, iid='warn', n_iter=10, n_jobs=None,\n",
       "          param_distributions={'n_estimators': [200, 288, 377, 466, 555, 644, 733, 822, 911, 1000], 'max_features': ['auto', 'sqrt'], 'max_depth': [10, 20, 30, 40, 50, 60, 70, 80, 90, 100, 110, None], 'min_samples_split': [2, 5, 10], 'min_samples_leaf': [1, 2, 4], 'bootstrap': [True, False]},\n",
       "          pre_dispatch='2*n_jobs', random_state=42, refit=True,\n",
       "          return_train_score='warn', scoring=None, verbose=2)"
      ]
     },
     "execution_count": 211,
     "metadata": {},
     "output_type": "execute_result"
    }
   ],
   "source": [
    "rf_random.fit(X_train,y_train)"
   ]
  },
  {
   "cell_type": "code",
   "execution_count": 212,
   "metadata": {},
   "outputs": [
    {
     "name": "stdout",
     "output_type": "stream",
     "text": [
      "{'n_estimators': 733, 'min_samples_split': 5, 'min_samples_leaf': 1, 'max_features': 'sqrt', 'max_depth': 30, 'bootstrap': True}\n"
     ]
    }
   ],
   "source": [
    "print(rf_random.best_params_ )"
   ]
  },
  {
   "cell_type": "code",
   "execution_count": 213,
   "metadata": {},
   "outputs": [
    {
     "data": {
      "text/plain": [
       "0.5619454568304637"
      ]
     },
     "execution_count": 213,
     "metadata": {},
     "output_type": "execute_result"
    }
   ],
   "source": [
    "rf_random.best_score_"
   ]
  },
  {
   "cell_type": "code",
   "execution_count": null,
   "metadata": {},
   "outputs": [],
   "source": []
  }
 ],
 "metadata": {
  "kernelspec": {
   "display_name": "Python 3",
   "language": "python",
   "name": "python3"
  },
  "language_info": {
   "codemirror_mode": {
    "name": "ipython",
    "version": 3
   },
   "file_extension": ".py",
   "mimetype": "text/x-python",
   "name": "python",
   "nbconvert_exporter": "python",
   "pygments_lexer": "ipython3",
   "version": "3.7.1"
  }
 },
 "nbformat": 4,
 "nbformat_minor": 2
}
