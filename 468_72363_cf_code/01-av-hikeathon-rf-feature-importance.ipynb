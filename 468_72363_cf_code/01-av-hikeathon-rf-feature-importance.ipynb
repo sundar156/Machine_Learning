{
 "cells": [
  {
   "cell_type": "code",
   "execution_count": 41,
   "metadata": {
    "_cell_guid": "b1076dfc-b9ad-4769-8c92-a6c4dae69d19",
    "_uuid": "8f2839f25d086af736a60e9eeb907d3b93b6e0e5",
    "collapsed": true
   },
   "outputs": [],
   "source": [
    "import pickle\n",
    "import numpy as np\n",
    "import pandas as pd \n",
    "import matplotlib.pyplot as plt\n",
    "import seaborn as sns\n",
    "\n",
    "from sklearn.ensemble import RandomForestClassifier\n",
    "\n",
    "sns.set(font_scale=1.4)"
   ]
  },
  {
   "cell_type": "code",
   "execution_count": 42,
   "metadata": {
    "_cell_guid": "79c7e3d0-c299-4dcb-8224-4455121ee9b0",
    "_uuid": "d629ff2d2480ee46fbb7e2d37f6b5fab8052498a",
    "collapsed": true
   },
   "outputs": [],
   "source": [
    "file_train_node = 'train.csv'\n",
    "file_train_feat = 'user_features.csv'\n",
    "file_test_node = 'test.csv'"
   ]
  },
  {
   "cell_type": "code",
   "execution_count": 43,
   "metadata": {
    "collapsed": true
   },
   "outputs": [],
   "source": [
    "nrows = 10000\n",
    "random_state = 1990"
   ]
  },
  {
   "cell_type": "code",
   "execution_count": 44,
   "metadata": {
    "collapsed": true
   },
   "outputs": [],
   "source": [
    "train_node = pd.read_csv(file_train_node, nrows=nrows)\n",
    "train_feat = pd.read_csv(file_train_feat, nrows=nrows)\n",
    "\n",
    "test_node = pd.read_csv(file_test_node, nrows=nrows)"
   ]
  },
  {
   "cell_type": "code",
   "execution_count": 45,
   "metadata": {
    "collapsed": true
   },
   "outputs": [],
   "source": [
    "def feat_prev_pings(tr_nd):\n",
    "    inverted_train_node = train_node.rename(\n",
    "        columns={'node1_id':'node2_id', 'node2_id':'node1_id'}).set_index(\n",
    "        ['node1_id', 'node2_id'])\n",
    "    return tr_nd[['node1_id', 'node2_id']].set_index(\n",
    "        ['node1_id', 'node2_id']).join(inverted_train_node).fillna(0).values.astype(np.int8)"
   ]
  },
  {
   "cell_type": "code",
   "execution_count": 46,
   "metadata": {
    "collapsed": true
   },
   "outputs": [],
   "source": [
    "def feat_node_fs(tr_nd, tr_ft):\n",
    "    n1_cols = {f: f'{f}_n1' for f in tr_ft.columns if 'f' in f}\n",
    "    n1_cols['index'] = 'node1_id'\n",
    "    n2_cols = {f: f'{f}_n2' for f in tr_ft.columns if 'f' in f}\n",
    "    n2_cols['index'] = 'node2_id'\n",
    "    n1_df = tr_nd.set_index('node1_id')\\\n",
    "    .join(tr_ft.set_index('node_id'))\\\n",
    "    .reset_index()\\\n",
    "    .rename(columns=n1_cols)\n",
    "    df = n1_df.set_index('node2_id')\\\n",
    "    .join(tr_ft.set_index('node_id'))\\\n",
    "    .reset_index()\\\n",
    "    .rename(columns=n2_cols)\n",
    "    return df"
   ]
  },
  {
   "cell_type": "code",
   "execution_count": 47,
   "metadata": {
    "collapsed": true
   },
   "outputs": [],
   "source": [
    "train = train_node.copy()\n",
    "train['prev_is_chat'] = feat_prev_pings(train_node)"
   ]
  },
  {
   "cell_type": "code",
   "execution_count": 48,
   "metadata": {
    "collapsed": true
   },
   "outputs": [],
   "source": [
    "train = feat_node_fs(train, train_feat)"
   ]
  },
  {
   "cell_type": "code",
   "execution_count": 49,
   "metadata": {},
   "outputs": [
    {
     "data": {
      "text/html": [
       "<div>\n",
       "<style scoped>\n",
       "    .dataframe tbody tr th:only-of-type {\n",
       "        vertical-align: middle;\n",
       "    }\n",
       "\n",
       "    .dataframe tbody tr th {\n",
       "        vertical-align: top;\n",
       "    }\n",
       "\n",
       "    .dataframe thead th {\n",
       "        text-align: right;\n",
       "    }\n",
       "</style>\n",
       "<table border=\"1\" class=\"dataframe\">\n",
       "  <thead>\n",
       "    <tr style=\"text-align: right;\">\n",
       "      <th></th>\n",
       "      <th>node2_id</th>\n",
       "      <th>node1_id</th>\n",
       "      <th>is_chat</th>\n",
       "      <th>prev_is_chat</th>\n",
       "      <th>f1_n1</th>\n",
       "      <th>f2_n1</th>\n",
       "      <th>f3_n1</th>\n",
       "      <th>f4_n1</th>\n",
       "      <th>f5_n1</th>\n",
       "      <th>f6_n1</th>\n",
       "      <th>...</th>\n",
       "      <th>f4_n2</th>\n",
       "      <th>f5_n2</th>\n",
       "      <th>f6_n2</th>\n",
       "      <th>f7_n2</th>\n",
       "      <th>f8_n2</th>\n",
       "      <th>f9_n2</th>\n",
       "      <th>f10_n2</th>\n",
       "      <th>f11_n2</th>\n",
       "      <th>f12_n2</th>\n",
       "      <th>f13_n2</th>\n",
       "    </tr>\n",
       "  </thead>\n",
       "  <tbody>\n",
       "    <tr>\n",
       "      <th>0</th>\n",
       "      <td>72</td>\n",
       "      <td>7727688</td>\n",
       "      <td>0</td>\n",
       "      <td>0</td>\n",
       "      <td>NaN</td>\n",
       "      <td>NaN</td>\n",
       "      <td>NaN</td>\n",
       "      <td>NaN</td>\n",
       "      <td>NaN</td>\n",
       "      <td>NaN</td>\n",
       "      <td>...</td>\n",
       "      <td>0.0</td>\n",
       "      <td>0.0</td>\n",
       "      <td>0.0</td>\n",
       "      <td>0.0</td>\n",
       "      <td>0.0</td>\n",
       "      <td>0.0</td>\n",
       "      <td>0.0</td>\n",
       "      <td>0.0</td>\n",
       "      <td>0.0</td>\n",
       "      <td>15.0</td>\n",
       "    </tr>\n",
       "    <tr>\n",
       "      <th>1</th>\n",
       "      <td>278</td>\n",
       "      <td>5845081</td>\n",
       "      <td>0</td>\n",
       "      <td>0</td>\n",
       "      <td>NaN</td>\n",
       "      <td>NaN</td>\n",
       "      <td>NaN</td>\n",
       "      <td>NaN</td>\n",
       "      <td>NaN</td>\n",
       "      <td>NaN</td>\n",
       "      <td>...</td>\n",
       "      <td>31.0</td>\n",
       "      <td>14.0</td>\n",
       "      <td>2.0</td>\n",
       "      <td>31.0</td>\n",
       "      <td>15.0</td>\n",
       "      <td>1.0</td>\n",
       "      <td>31.0</td>\n",
       "      <td>19.0</td>\n",
       "      <td>2.0</td>\n",
       "      <td>15.0</td>\n",
       "    </tr>\n",
       "    <tr>\n",
       "      <th>2</th>\n",
       "      <td>451</td>\n",
       "      <td>2693495</td>\n",
       "      <td>0</td>\n",
       "      <td>0</td>\n",
       "      <td>NaN</td>\n",
       "      <td>NaN</td>\n",
       "      <td>NaN</td>\n",
       "      <td>NaN</td>\n",
       "      <td>NaN</td>\n",
       "      <td>NaN</td>\n",
       "      <td>...</td>\n",
       "      <td>31.0</td>\n",
       "      <td>0.0</td>\n",
       "      <td>0.0</td>\n",
       "      <td>31.0</td>\n",
       "      <td>0.0</td>\n",
       "      <td>0.0</td>\n",
       "      <td>31.0</td>\n",
       "      <td>1.0</td>\n",
       "      <td>0.0</td>\n",
       "      <td>4.0</td>\n",
       "    </tr>\n",
       "    <tr>\n",
       "      <th>3</th>\n",
       "      <td>508</td>\n",
       "      <td>6434284</td>\n",
       "      <td>0</td>\n",
       "      <td>0</td>\n",
       "      <td>NaN</td>\n",
       "      <td>NaN</td>\n",
       "      <td>NaN</td>\n",
       "      <td>NaN</td>\n",
       "      <td>NaN</td>\n",
       "      <td>NaN</td>\n",
       "      <td>...</td>\n",
       "      <td>31.0</td>\n",
       "      <td>5.0</td>\n",
       "      <td>1.0</td>\n",
       "      <td>31.0</td>\n",
       "      <td>4.0</td>\n",
       "      <td>0.0</td>\n",
       "      <td>31.0</td>\n",
       "      <td>1.0</td>\n",
       "      <td>0.0</td>\n",
       "      <td>4.0</td>\n",
       "    </tr>\n",
       "    <tr>\n",
       "      <th>4</th>\n",
       "      <td>881</td>\n",
       "      <td>4659861</td>\n",
       "      <td>0</td>\n",
       "      <td>0</td>\n",
       "      <td>NaN</td>\n",
       "      <td>NaN</td>\n",
       "      <td>NaN</td>\n",
       "      <td>NaN</td>\n",
       "      <td>NaN</td>\n",
       "      <td>NaN</td>\n",
       "      <td>...</td>\n",
       "      <td>31.0</td>\n",
       "      <td>31.0</td>\n",
       "      <td>31.0</td>\n",
       "      <td>31.0</td>\n",
       "      <td>31.0</td>\n",
       "      <td>31.0</td>\n",
       "      <td>31.0</td>\n",
       "      <td>31.0</td>\n",
       "      <td>31.0</td>\n",
       "      <td>15.0</td>\n",
       "    </tr>\n",
       "  </tbody>\n",
       "</table>\n",
       "<p>5 rows × 30 columns</p>\n",
       "</div>"
      ],
      "text/plain": [
       "   node2_id  node1_id  is_chat  prev_is_chat  f1_n1  f2_n1  f3_n1  f4_n1  \\\n",
       "0        72   7727688        0             0    NaN    NaN    NaN    NaN   \n",
       "1       278   5845081        0             0    NaN    NaN    NaN    NaN   \n",
       "2       451   2693495        0             0    NaN    NaN    NaN    NaN   \n",
       "3       508   6434284        0             0    NaN    NaN    NaN    NaN   \n",
       "4       881   4659861        0             0    NaN    NaN    NaN    NaN   \n",
       "\n",
       "   f5_n1  f6_n1  ...  f4_n2  f5_n2  f6_n2  f7_n2  f8_n2  f9_n2  f10_n2  \\\n",
       "0    NaN    NaN  ...    0.0    0.0    0.0    0.0    0.0    0.0     0.0   \n",
       "1    NaN    NaN  ...   31.0   14.0    2.0   31.0   15.0    1.0    31.0   \n",
       "2    NaN    NaN  ...   31.0    0.0    0.0   31.0    0.0    0.0    31.0   \n",
       "3    NaN    NaN  ...   31.0    5.0    1.0   31.0    4.0    0.0    31.0   \n",
       "4    NaN    NaN  ...   31.0   31.0   31.0   31.0   31.0   31.0    31.0   \n",
       "\n",
       "   f11_n2  f12_n2  f13_n2  \n",
       "0     0.0     0.0    15.0  \n",
       "1    19.0     2.0    15.0  \n",
       "2     1.0     0.0     4.0  \n",
       "3     1.0     0.0     4.0  \n",
       "4    31.0    31.0    15.0  \n",
       "\n",
       "[5 rows x 30 columns]"
      ]
     },
     "execution_count": 49,
     "metadata": {},
     "output_type": "execute_result"
    }
   ],
   "source": [
    "train.head()"
   ]
  },
  {
   "cell_type": "code",
   "execution_count": 50,
   "metadata": {
    "collapsed": true
   },
   "outputs": [],
   "source": [
    "train.to_csv('train_features.csv', index=False)"
   ]
  },
  {
   "cell_type": "code",
   "execution_count": 51,
   "metadata": {
    "collapsed": true
   },
   "outputs": [],
   "source": [
    "ids = ['node1_id', 'node2_id']\n",
    "label = 'is_chat'\n",
    "features = [col for col in train.columns if col not in ids and col != label]"
   ]
  },
  {
   "cell_type": "code",
   "execution_count": 52,
   "metadata": {
    "collapsed": true
   },
   "outputs": [],
   "source": [
    "rf = RandomForestClassifier(n_jobs=4, max_depth=10, n_estimators=200, random_state=random_state)"
   ]
  },
  {
   "cell_type": "code",
   "execution_count": 55,
   "metadata": {
    "collapsed": true
   },
   "outputs": [],
   "source": [
    "zero_train = train[train.is_chat==0].sample(train[train.is_chat==1].shape[0]*2)\n",
    "one_train = train[train.is_chat==1]"
   ]
  },
  {
   "cell_type": "code",
   "execution_count": 63,
   "metadata": {
    "collapsed": true
   },
   "outputs": [],
   "source": [
    "sample_train = pd.concat([zero_train, one_train])\n",
    "sample_train = sample_train.sample(frac=1).reset_index(drop=True)\n",
    "sample_train.to_csv('sample_train.csv', index=False)\n",
    "sample_train = sample_train.dropna()"
   ]
  },
  {
   "cell_type": "code",
   "execution_count": 64,
   "metadata": {},
   "outputs": [
    {
     "data": {
      "text/plain": [
       "RandomForestClassifier(bootstrap=True, class_weight=None, criterion='gini',\n",
       "            max_depth=10, max_features='auto', max_leaf_nodes=None,\n",
       "            min_impurity_decrease=0.0, min_impurity_split=None,\n",
       "            min_samples_leaf=1, min_samples_split=2,\n",
       "            min_weight_fraction_leaf=0.0, n_estimators=200, n_jobs=4,\n",
       "            oob_score=False, random_state=1990, verbose=0,\n",
       "            warm_start=False)"
      ]
     },
     "execution_count": 64,
     "metadata": {},
     "output_type": "execute_result"
    }
   ],
   "source": [
    "rf.fit(sample_train[features], sample_train[label])"
   ]
  },
  {
   "cell_type": "code",
   "execution_count": 65,
   "metadata": {},
   "outputs": [
    {
     "data": {
      "text/plain": [
       "array([0., 0., 0., 0., 0., 0., 0., 0., 0., 0., 0., 0., 0., 0., 0., 0., 0.,\n",
       "       0., 0., 0., 0., 0., 0., 0., 0., 0., 0.])"
      ]
     },
     "execution_count": 65,
     "metadata": {},
     "output_type": "execute_result"
    }
   ],
   "source": [
    "rf.feature_importances_"
   ]
  },
  {
   "cell_type": "code",
   "execution_count": 66,
   "metadata": {},
   "outputs": [
    {
     "data": {
      "image/png": "[encoded data removed]",
      "text/plain": [
       "<Figure size 864x432 with 1 Axes>"
      ]
     },
     "metadata": {},
     "output_type": "display_data"
    }
   ],
   "source": [
    "plt.figure(figsize=(12, 6));\n",
    "sns.barplot(x=features, y=rf.feature_importances_);\n",
    "plt.xticks(rotation=80);"
   ]
  },
  {
   "cell_type": "code",
   "execution_count": 67,
   "metadata": {
    "collapsed": true
   },
   "outputs": [],
   "source": [
    "with open('rf_v1.pkl', 'wb') as f:\n",
    "    pickle.dump(rf, f)"
   ]
  }
 ],
 "metadata": {
  "kernelspec": {
   "display_name": "Python [default]",
   "language": "python",
   "name": "python3"
  },
  "language_info": {
   "codemirror_mode": {
    "name": "ipython",
    "version": 3
   },
   "file_extension": ".py",
   "mimetype": "text/x-python",
   "name": "python",
   "nbconvert_exporter": "python",
   "pygments_lexer": "ipython3",
   "version": "3.6.8"
  }
 },
 "nbformat": 4,
 "nbformat_minor": 1
}
