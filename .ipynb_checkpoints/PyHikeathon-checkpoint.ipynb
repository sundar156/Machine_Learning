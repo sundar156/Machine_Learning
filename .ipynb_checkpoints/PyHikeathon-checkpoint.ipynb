{
 "cells": [
  {
   "cell_type": "code",
   "execution_count": 233,
   "metadata": {
    "scrolled": true
   },
   "outputs": [
    {
     "name": "stderr",
     "output_type": "stream",
     "text": [
      "C:\\Users\\sundaramoorthy_p\\AppData\\Local\\Continuum\\anaconda3\\lib\\site-packages\\pandas\\core\\frame.py:6211: FutureWarning: Sorting because non-concatenation axis is not aligned. A future version\n",
      "of pandas will change to not sort by default.\n",
      "\n",
      "To accept the future behavior, pass 'sort=False'.\n",
      "\n",
      "To retain the current behavior and silence the warning, pass 'sort=True'.\n",
      "\n",
      "  sort=sort)\n"
     ]
    }
   ],
   "source": [
    "import pandas as pd\n",
    "import numpy as np\n",
    "import seaborn as sns\n",
    "\n",
    "Dataset_Train = pd.read_csv('train.csv',nrows=15500000,dtype={\"node1_id\": np.int64, \"node2_id\":np.int64, \"is_chat\": np.int32})\n",
    "Dataset_Test = pd.read_csv('test.csv',nrows=15500000, dtype={\"id\": np.int64, \"node1_id\": np.int64, \"node2_id\":np.int64})\n",
    "\n",
    "Dataset_Features = pd.read_csv('user_features.csv',nrows=15500000)\n",
    "Dataset_Features.rename(columns = {'node_id':'node1_id'},inplace=True)\n",
    "\n",
    "Dataset_Features[\"node1_id\"] = Dataset_Features[\"node1_id\"].astype('int') \n",
    "Dataset_Features[\"f1\"] = Dataset_Features[\"f1\"].astype('int') \n",
    "Dataset_Features[\"f2\"] = Dataset_Features[\"f2\"].astype('int') \n",
    "Dataset_Features[\"f3\"] = Dataset_Features[\"f3\"].astype('int') \n",
    "Dataset_Features[\"f4\"] = Dataset_Features[\"f4\"].astype('int') \n",
    "Dataset_Features[\"f5\"] = Dataset_Features[\"f5\"].astype('int') \n",
    "Dataset_Features[\"f6\"] = Dataset_Features[\"f6\"].astype('int') \n",
    "Dataset_Features[\"f7\"] = Dataset_Features[\"f7\"].astype('int') \n",
    "Dataset_Features[\"f8\"] = Dataset_Features[\"f8\"].astype('int') \n",
    "Dataset_Features[\"f9\"] = Dataset_Features[\"f9\"].astype('int') \n",
    "Dataset_Features[\"f10\"] = Dataset_Features[\"f10\"].astype('int') \n",
    "Dataset_Features[\"f11\"] = Dataset_Features[\"f11\"].astype('int') \n",
    "Dataset_Features[\"f12\"] = Dataset_Features[\"f12\"].astype('int') \n",
    "Dataset_Features[\"f13\"] = Dataset_Features[\"f13\"].astype('int') \n",
    "\n",
    "Dataset_Merged = pd.merge(Dataset_Train,Dataset_Features,how='inner',on='node1_id')\n",
    "Dataset_Merged_test_1 = pd.merge(Dataset_Test,Dataset_Features,how='outer',left_on='node1_id' ,right_on='node1_id')\n",
    "\n",
    "Dataset_Merged_test_2 = pd.merge(Dataset_Test,Dataset_Features,how='outer',left_on='node2_id' ,right_on='node1_id')\n",
    "Dataset_Merged_test_2.fillna(0,inplace=True)\n",
    "Dataset_Merged_test_2[\"node2_id\"] = Dataset_Merged_test_2[\"node2_id\"].astype('int') \n",
    "Dataset_Merged_test_2[\"f1\"] = Dataset_Merged_test_2[\"f1\"].astype('int') \n",
    "Dataset_Merged_test_2[\"f2\"] = Dataset_Merged_test_2[\"f2\"].astype('int') \n",
    "Dataset_Merged_test_2[\"f3\"] = Dataset_Merged_test_2[\"f3\"].astype('int') \n",
    "Dataset_Merged_test_2[\"f4\"] = Dataset_Merged_test_2[\"f4\"].astype('int') \n",
    "Dataset_Merged_test_2[\"f5\"] = Dataset_Merged_test_2[\"f5\"].astype('int') \n",
    "Dataset_Merged_test_2[\"f6\"] = Dataset_Merged_test_2[\"f6\"].astype('int') \n",
    "Dataset_Merged_test_2[\"f7\"] = Dataset_Merged_test_2[\"f7\"].astype('int') \n",
    "Dataset_Merged_test_2[\"f8\"] = Dataset_Merged_test_2[\"f8\"].astype('int') \n",
    "Dataset_Merged_test_2[\"f9\"] = Dataset_Merged_test_2[\"f9\"].astype('int') \n",
    "Dataset_Merged_test_2[\"f10\"] = Dataset_Merged_test_2[\"f10\"].astype('int') \n",
    "Dataset_Merged_test_2[\"f11\"] = Dataset_Merged_test_2[\"f11\"].astype('int') \n",
    "Dataset_Merged_test_2[\"f12\"] = Dataset_Merged_test_2[\"f12\"].astype('int') \n",
    "Dataset_Merged_test_2[\"f13\"] = Dataset_Merged_test_2[\"f13\"].astype('int') \n",
    "\n",
    "Dataset_Merged_test_2.drop(['node1_id_x','node1_id_y'],axis=1,inplace=True)\n",
    "#Dataset_Merged_test_2.rename(columns = {'node2_id':'node1_id'},inplace=True)\n",
    "\n",
    "#Dataset_Merged_test = pd.merge(Dataset_Merged_test_1,Dataset_Merged_test_2,how='outer',on='node1_id')\n",
    "\n",
    "Dataset_Merged_test_2.head(10)\n",
    "Dataset_Merged_test_2.rename(columns = {'node2_id':'node1_id'},inplace=True)\n",
    "\n",
    "#node1_id_x\n",
    "Dataset_Merged_test = Dataset_Merged_test_1.append(Dataset_Merged_test_2)\n",
    "#Dataset_Merged_test.fillna(0,inplace=True)\n",
    "Dataset_Merged_test.fillna(0,inplace=True)\n",
    "\n",
    "#Dataset_Merged_test_2.drop(['node2_id_x','node1_id_y'],axis=1,inplace=True)\n",
    "Dataset_Merged_test[\"node1_id\"] = Dataset_Merged_test[\"node1_id\"].astype('int') \n",
    "Dataset_Merged_test[\"f1\"] = Dataset_Merged_test[\"f1\"].astype('int') \n",
    "Dataset_Merged_test[\"f2\"] = Dataset_Merged_test[\"f2\"].astype('int') \n",
    "Dataset_Merged_test[\"f3\"] = Dataset_Merged_test[\"f3\"].astype('int') \n",
    "Dataset_Merged_test[\"f4\"] = Dataset_Merged_test[\"f4\"].astype('int') \n",
    "Dataset_Merged_test[\"f5\"] = Dataset_Merged_test[\"f5\"].astype('int') \n",
    "Dataset_Merged_test[\"f6\"] = Dataset_Merged_test[\"f6\"].astype('int') \n",
    "Dataset_Merged_test[\"f7\"] = Dataset_Merged_test[\"f7\"].astype('int') \n",
    "Dataset_Merged_test[\"f8\"] = Dataset_Merged_test[\"f8\"].astype('int') \n",
    "Dataset_Merged_test[\"f9\"] = Dataset_Merged_test[\"f9\"].astype('int') \n",
    "Dataset_Merged_test[\"f10\"] = Dataset_Merged_test[\"f10\"].astype('int') \n",
    "Dataset_Merged_test[\"f11\"] = Dataset_Merged_test[\"f11\"].astype('int') \n",
    "Dataset_Merged_test[\"f12\"] = Dataset_Merged_test[\"f12\"].astype('int') \n",
    "Dataset_Merged_test[\"f13\"] = Dataset_Merged_test[\"f13\"].astype('int') \n",
    "\n",
    "Dataset_Merged_test.drop(['node2_id','id'],axis=1,inplace=True)\n",
    "\n",
    "#Dataset_Merged_test.head(10)\n",
    "#Dataset_Merged_test.fillna(0,inplace=True)\n",
    "#Dataset_Merged['is_chat'] = Dataset_Merged['is_chat'].astype('int')\n",
    "#Dataset_Merged[\"node2_id\"] = Dataset_Merged[\"node2_id\"].astype('int') \n",
    "#Dataset_Merged['f14'] = pd.Categorical(Dataset_Merged['f13'], categories=range(15))\n",
    "#Dataset_Merged_test['f14'] = pd.Categorical(Dataset_Merged['f13'], categories=range(15))\n",
    "\n",
    "#default_dummies = pd.get_dummies(Dataset_Merged[\"f14\"],prefix='f14')\n",
    "#default_dummies\n",
    "#default_dummies.drop(default_dummies.columns[0], axis=1, inplace=True)\n",
    "#Dataset_Merged = pd.concat([Dataset_Merged, default_dummies], axis=1)\n",
    "#Dataset_Merged.head()\n",
    "#default_dummies\n",
    "\n",
    "\n",
    "#Dataset_Merged_test.drop(columns=['id'],inplace=True)\n",
    "#Dataset_Merged_test['f14'] = pd.Categorical(Dataset_Merged_test['f13'], categories=range(15))\n",
    "#default_dummies_test = pd.get_dummies(Dataset_Merged_test[\"f14\"],prefix='f14',drop_first=True)\n",
    "\n",
    "#default_dummies\n",
    "#default_dummies_test.drop(default_dummies_test.columns[0], axis=1, inplace=True)\n",
    "#Dataset_Merged_test = pd.concat([Dataset_Merged_test, default_dummies_test], axis=1)\n",
    "#Dataset_Merged_test.head(10)\n",
    "Dataset_Merged = pd.merge(Dataset_Train,Dataset_Features,how='inner',on='node1_id')\n",
    "Dataset_Merged_test = pd.merge(Dataset_Test,Dataset_Features,how='left',on='node1_id')\n",
    "Dataset_Merged_test.fillna(0,inplace=True)\n",
    "Dataset_Merged['is_chat'] = Dataset_Merged['is_chat'].astype('int')\n",
    "Dataset_Merged[\"node2_id\"] = Dataset_Merged[\"node2_id\"].astype('int') \n",
    "Dataset_Merged['f14'] = pd.Categorical(Dataset_Merged['f13'], categories=range(15))\n",
    "\n",
    "default_dummies = pd.get_dummies(Dataset_Merged[\"f14\"],prefix='f14')\n",
    "#default_dummies\n",
    "default_dummies.drop(default_dummies.columns[0], axis=1, inplace=True)\n",
    "Dataset_Merged = pd.concat([Dataset_Merged, default_dummies], axis=1)\n",
    "Dataset_Merged.head()\n",
    "#default_dummies\n",
    "\n",
    "\n",
    "Dataset_Merged_test.drop(columns=['id'],inplace=True)\n",
    "Dataset_Merged_test['f14'] = pd.Categorical(Dataset_Merged_test['f13'], categories=range(15))\n",
    "default_dummies_test = pd.get_dummies(Dataset_Merged_test[\"f14\"],prefix='f14',drop_first=True)\n",
    "\n",
    "#default_dummies\n",
    "default_dummies_test.drop(default_dummies_test.columns[0], axis=1, inplace=True)\n",
    "Dataset_Merged_test = pd.concat([Dataset_Merged_test, default_dummies_test], axis=1)\n"
   ]
  },
  {
   "cell_type": "code",
   "execution_count": 234,
   "metadata": {},
   "outputs": [
    {
     "name": "stdout",
     "output_type": "stream",
     "text": [
      "metrics 0.7610413911023648\n"
     ]
    },
    {
     "data": {
      "image/png": "[encoded data removed]",
      "text/plain": [
       "<Figure size 432x288 with 2 Axes>"
      ]
     },
     "metadata": {
      "needs_background": "light"
     },
     "output_type": "display_data"
    }
   ],
   "source": [
    "from sklearn.linear_model import LogisticRegression\n",
    "from sklearn.model_selection import train_test_split\n",
    "import matplotlib.pyplot as plt\n",
    "\n",
    "from sklearn import metrics\n",
    "from math import sqrt\n",
    "\n",
    "x= Dataset_Merged[['node1_id','node2_id','f1','f2','f3','f4','f5','f6','f7','f8','f9','f10','f11','f12',\n",
    "                  'f14_2','f14_3','f14_4','f14_5','f14_6','f14_7','f14_8','f14_9','f14_10','f14_11','f14_12','f14_13','f14_14']]\n",
    "y= Dataset_Merged['is_chat']\n",
    "x_train,x_test,y_train,y_test = train_test_split(x, y, test_size=0.2, random_state=42,stratify=y)\n",
    "\n",
    "logreg = LogisticRegression(C=1.0, dual=False, fit_intercept=True,\n",
    "          intercept_scaling=1, max_iter=100, multi_class='warn',\n",
    "          n_jobs=None, penalty='l2', random_state=None, solver='liblinear',class_weight='balanced',\n",
    "          tol=0.0001, verbose=0, warm_start=False)\n",
    "x_proba = Dataset_Merged_test[['node1_id','node2_id','f1','f2','f3','f4','f5','f6','f7','f8','f9','f10','f11','f12',\n",
    "                  'f14_2','f14_3','f14_4','f14_5','f14_6','f14_7','f14_8','f14_9','f14_10','f14_11','f14_12','f14_13','f14_14']]\n",
    "\n",
    "logreg.fit(x_train,y_train)\n",
    "y_pred = logreg.predict_proba(x_proba)\n",
    "\n",
    "\n",
    "#now applying our learnt model on test and also ontrain data\n",
    "y_log_pred_test = logreg.predict(x_test)\n",
    "y_log_pred_train = logreg.predict(x_train)\n",
    "\n",
    "#comparing the metrics of predicted lebel and real label of test data\n",
    "print('metrics',metrics.accuracy_score(y_test, y_log_pred_test))\n",
    "conf = metrics.confusion_matrix(y_test, y_log_pred_test)\n",
    "y_log_proba = logreg.predict(x_proba)\n",
    "\n",
    "cmap = sns.cubehelix_palette(50, hue=0.05, rot=0, light=0.9, dark=0, as_cmap=True)\n",
    "sns.heatmap(conf,cmap = cmap,xticklabels=['predicted_chat_yes','predicted_chat_no'],yticklabels=['actual_chat_yes','actual_chat_no'],annot=True, fmt=\"d\")\n",
    "plt.show()"
   ]
  },
  {
   "cell_type": "code",
   "execution_count": 235,
   "metadata": {},
   "outputs": [],
   "source": [
    "DataOut=list(zip( Dataset_Merged_test['node1_id'],  np.round(y_pred[:,1],2)))\n",
    "df=pd.DataFrame(DataOut,columns=['id','is_chat'])\n",
    "df[[\"id\", \"is_chat\"]].to_csv(\"submit_results.csv\", index=False)"
   ]
  },
  {
   "cell_type": "code",
   "execution_count": 236,
   "metadata": {},
   "outputs": [
    {
     "data": {
      "text/plain": [
       "0.6751005120003555"
      ]
     },
     "execution_count": 236,
     "metadata": {},
     "output_type": "execute_result"
    }
   ],
   "source": [
    "from sklearn.metrics import roc_curve\n",
    "from sklearn.metrics import roc_auc_score\n",
    "from matplotlib import pyplot\n",
    "metrics.roc_auc_score(y_test, y_log_pred_test, average='macro', sample_weight=None, max_fpr=None)"
   ]
  },
  {
   "cell_type": "code",
   "execution_count": 237,
   "metadata": {},
   "outputs": [
    {
     "name": "stdout",
     "output_type": "stream",
     "text": [
      "AUC: 0.675\n"
     ]
    },
    {
     "data": {
      "image/png": "[encoded data removed]",
      "text/plain": [
       "<Figure size 432x288 with 1 Axes>"
      ]
     },
     "metadata": {
      "needs_background": "light"
     },
     "output_type": "display_data"
    }
   ],
   "source": [
    "# calculate AUC\n",
    "auc = roc_auc_score(y_test, y_log_pred_test)\n",
    "print('AUC: %.3f' % auc)\n",
    "# calculate roc curve\n",
    "fpr, tpr, thresholds = roc_curve(y_test, y_log_pred_test)\n",
    "# plot no skill\n",
    "pyplot.plot([0, 1], [0, 1], linestyle='--')\n",
    "# plot the roc curve for the model\n",
    "pyplot.plot(fpr, tpr, marker='.')\n",
    "# show the plot\n",
    "pyplot.show()"
   ]
  },
  {
   "cell_type": "code",
   "execution_count": null,
   "metadata": {},
   "outputs": [],
   "source": []
  }
 ],
 "metadata": {
  "kernelspec": {
   "display_name": "Python 3",
   "language": "python",
   "name": "python3"
  },
  "language_info": {
   "codemirror_mode": {
    "name": "ipython",
    "version": 3
   },
   "file_extension": ".py",
   "mimetype": "text/x-python",
   "name": "python",
   "nbconvert_exporter": "python",
   "pygments_lexer": "ipython3",
   "version": "3.7.1"
  }
 },
 "nbformat": 4,
 "nbformat_minor": 2
}
